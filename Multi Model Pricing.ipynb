{
 "cells": [
  {
   "cell_type": "markdown",
   "id": "27c6d394",
   "metadata": {},
   "source": [
    "## Imports"
   ]
  },
  {
   "cell_type": "code",
   "execution_count": 1,
   "id": "80d348ca",
   "metadata": {},
   "outputs": [],
   "source": [
    "import numpy as np\n",
    "from scipy.stats import norm"
   ]
  },
  {
   "cell_type": "markdown",
   "id": "fcec1cf1",
   "metadata": {},
   "source": [
    "## Classes definition"
   ]
  },
  {
   "cell_type": "code",
   "execution_count": 2,
   "id": "571a5319",
   "metadata": {},
   "outputs": [],
   "source": [
    "class VanillaOption:\n",
    "    def __init__(self, K, T, option_type):\n",
    "        self.K = K\n",
    "        self.T = T\n",
    "        self.option_type = option_type\n",
    "        if self.option_type not in ['Call', 'Put']:\n",
    "            raise ValueError(\"option_type must be 'Call' or 'Put'\")\n",
    "\n",
    "    def payoff(self, spot):\n",
    "        if self.option_type == 'Call':\n",
    "            return max(spot - self.K, 0)\n",
    "        else:\n",
    "            return max(self.K - spot, 0)"
   ]
  },
  {
   "cell_type": "code",
   "execution_count": 3,
   "id": "6ed8822e",
   "metadata": {},
   "outputs": [],
   "source": [
    "class BS:\n",
    "    def __init__(self, S, sigma, r, q):\n",
    "        self.S = S\n",
    "        self.sigma = sigma\n",
    "        self.r = r\n",
    "        self.q = q\n",
    "\n",
    "    def mc(self, T, n):\n",
    "        Z = np.random.randn(n)\n",
    "        ST = self.S * np.exp((self.r - self.q - 0.5 * self.sigma **2) * T + self.sigma * np.sqrt(T)*Z)\n",
    "        return ST "
   ]
  },
  {
   "cell_type": "code",
   "execution_count": 4,
   "id": "8f5720b3",
   "metadata": {},
   "outputs": [],
   "source": [
    "class Heston:\n",
    "    def __init__(self, S, v0, r, q, kappa, theta, xi, rho):\n",
    "        self.S = S\n",
    "        self.v0 = v0\n",
    "        self.r = r\n",
    "        self.q = q\n",
    "        self.kappa = kappa\n",
    "        self.theta = theta\n",
    "        self.xi = xi\n",
    "        self.rho = rho\n",
    "\n",
    "    def mc(self, T, n, steps):\n",
    "        dt = T / steps\n",
    "        S = np.full(n, self.S)\n",
    "        v = np.full(n, self.v0)\n",
    "\n",
    "        for _ in range(steps):\n",
    "            Z1 = np.random.randn(n)\n",
    "            Z2 = np.random.randn(n)\n",
    "            dW_v = Z1 * np.sqrt(dt)\n",
    "            dW_s = (self.rho * Z1 + np.sqrt(1 - self.rho ** 2) * Z2) * np.sqrt(dt)\n",
    "\n",
    "            v = np.maximum(v + self.kappa * (self.theta - v) * dt + self.xi * np.sqrt(v) * dW_v, 0) \n",
    "\n",
    "            S = S * np.exp((self.r - self.q - 0.5 * v) * dt + np.sqrt(v) * dW_s)\n",
    "\n",
    "        return S "
   ]
  },
  {
   "cell_type": "code",
   "execution_count": 5,
   "id": "6470c8d0",
   "metadata": {},
   "outputs": [],
   "source": [
    "class SABR:\n",
    "    def __init__(self, S0, v0, alpha, beta, V, rho, r, q):\n",
    "        self.S0 = S0\n",
    "        self.v0 = v0\n",
    "        self.alpha = alpha\n",
    "        self.beta = beta\n",
    "        self.rho = rho\n",
    "        self.r = r \n",
    "        self.q = q \n",
    "\n",
    "    def mc(self, T, n, steps):\n",
    "        S = np.full(n, self.S0)\n",
    "        sigma = np.full(n, self.v0)\n",
    "        dt = T / steps\n",
    "        for _ in range(steps):\n",
    "\n",
    "            Z1 = np.random.randn(n)\n",
    "            Z2 = np.random.randn(n)\n",
    "            dW = Z1 * np.sqrt(dt)\n",
    "            dZ = (self.rho * Z1 + np.sqrt(1 - self.rho ** 2) * Z2) * np.sqrt(dt)\n",
    "            sigma = sigma * (1 + self.alpha * np.sqrt(dt) * dZ)\n",
    "            S = S * np.exp(-0.5 * sigma ** 2 * dt + sigma * np.sqrt(dt) * dW)\n",
    "\n",
    "        return S "
   ]
  },
  {
   "cell_type": "code",
   "execution_count": 6,
   "id": "820e69f1",
   "metadata": {},
   "outputs": [],
   "source": [
    "class Vasicek:\n",
    "    def __init__(self, a, b, sigma, r0):\n",
    "        self.a = a\n",
    "        self.b = b\n",
    "        self.sigma = sigma\n",
    "        self.r0 = r0\n",
    "    \n",
    "    def mc(self, T, n, steps):\n",
    "        dt = T / steps\n",
    "        r = np.full(n, self.r0)\n",
    "\n",
    "        for _ in range(steps):\n",
    "            Z = np.random.randn(n)\n",
    "            dr = self.a * (self.b - r) * dt + self.sigma * np.sqrt(dt) * Z\n",
    "            r = r + dr\n",
    "\n",
    "        return r "
   ]
  },
  {
   "cell_type": "markdown",
   "id": "00be066d",
   "metadata": {},
   "source": [
    "## Pricing"
   ]
  },
  {
   "cell_type": "code",
   "execution_count": 7,
   "id": "2b781eb7",
   "metadata": {},
   "outputs": [],
   "source": [
    "class Pricer:\n",
    "    def __init__(self, model):\n",
    "        self.model = model\n",
    "\n",
    "    def price(self, option):\n",
    "        S = self.model.S\n",
    "        sigma = self.model.sigma\n",
    "        r = self.model.r\n",
    "        q = self.model.q\n",
    "\n",
    "        K = option.K\n",
    "        T = option.T\n",
    "        option_type = option.option_type\n",
    "\n",
    "        d1 = (np.log(S/K) + (r + 0.5 * sigma ** 2) * T) / (sigma * np.sqrt(T))\n",
    "        d2 = d1 - sigma * np.sqrt(T)\n",
    "\n",
    "        if option_type == \"Call\":\n",
    "            price = S * np.exp(-q * T) * norm.cdf(d1) - K * np.exp(-r * T) * norm.cdf(d2)\n",
    "        else:\n",
    "            price = K * np.exp(-r * T) * norm.cdf(-d2) - S * np.exp(-q * T) * norm.cdf(-d1)\n",
    "\n",
    "        return price"
   ]
  },
  {
   "cell_type": "code",
   "execution_count": 8,
   "id": "fd033e36",
   "metadata": {},
   "outputs": [],
   "source": [
    "class PricerMC:\n",
    "    def __init__(self,model):\n",
    "        self.model = model\n",
    "\n",
    "    def price(self, option, n, **kwargs):\n",
    "        T = option.T\n",
    "        ST = self.model.mc(T, n, **kwargs)\n",
    "        payoffs = np.array([option.payoff(s) for s in ST])\n",
    "        price = np.exp(-self.model.r * T) * np.mean(payoffs)\n",
    "        return price"
   ]
  },
  {
   "cell_type": "markdown",
   "id": "2852855f",
   "metadata": {},
   "source": [
    "## Tests"
   ]
  },
  {
   "cell_type": "code",
   "execution_count": 9,
   "id": "e780d7cb",
   "metadata": {},
   "outputs": [
    {
     "name": "stdout",
     "output_type": "stream",
     "text": [
      "Price by Monte Carlo – Heston : 28.5987\n"
     ]
    }
   ],
   "source": [
    "option = VanillaOption(K=100, T=1, option_type='Call')\n",
    "\n",
    "model = Heston(\n",
    "    S=130,      \n",
    "    v0=0.2,      \n",
    "    r=0.05,      \n",
    "    q=0,         \n",
    "    kappa=1.5,\n",
    "    theta=0.04,\n",
    "    xi=0.3,\n",
    "    rho=-0.7\n",
    ")\n",
    "\n",
    "pricer = PricerMC(model)\n",
    "\n",
    "price = pricer.price(option, n=10000, steps=100)\n",
    "\n",
    "print(f\"Price by Monte Carlo – Heston : {price:.4f}\")\n",
    "\n"
   ]
  },
  {
   "cell_type": "code",
   "execution_count": 10,
   "id": "6a58caae",
   "metadata": {},
   "outputs": [
    {
     "name": "stdout",
     "output_type": "stream",
     "text": [
      "Call price : 15.8938\n"
     ]
    }
   ],
   "source": [
    "bs = BS(S=100, sigma = 0.2, r = 0.05, q=0.01)\n",
    "\n",
    "option = VanillaOption(K=90, T=1, option_type='Call')\n",
    "\n",
    "pricer = Pricer(model=bs)\n",
    "\n",
    "print(f\"{option.option_type} price : {pricer.price(option):.4f}\")"
   ]
  },
  {
   "cell_type": "code",
   "execution_count": 11,
   "id": "17e7b0bb",
   "metadata": {},
   "outputs": [
    {
     "name": "stdout",
     "output_type": "stream",
     "text": [
      "15.96876537593425\n"
     ]
    }
   ],
   "source": [
    "option = VanillaOption(K = 90, T = 1, option_type='Call')\n",
    "\n",
    "model = BS(S = 100, sigma = 0.2, r = 0.05, q = 0.01)\n",
    "\n",
    "pricer = PricerMC(model)\n",
    "\n",
    "prix_mc = pricer.price(option, n = 100000)\n",
    "\n",
    "print(prix_mc)\n"
   ]
  },
  {
   "cell_type": "code",
   "execution_count": 12,
   "id": "42decd7c",
   "metadata": {},
   "outputs": [
    {
     "name": "stdout",
     "output_type": "stream",
     "text": [
      "7.543291926386853\n"
     ]
    }
   ],
   "source": [
    "option = VanillaOption(K=100, T = 1, option_type = \"Call\")\n",
    "sabr = SABR(S0 = 110, v0 = 0.2, beta = 1, V = 0.4, rho = -0.4, r = 0.03, q = 0, alpha = 0.4)\n",
    "pricer = PricerMC(sabr)\n",
    "price = pricer.price(option, n = 10000, steps = 100)\n",
    "print(price)"
   ]
  },
  {
   "cell_type": "code",
   "execution_count": 13,
   "id": "3770bcc1",
   "metadata": {},
   "outputs": [
    {
     "data": {
      "image/png": "[encoded data removed]",
      "text/plain": [
       "<Figure size 640x480 with 1 Axes>"
      ]
     },
     "metadata": {},
     "output_type": "display_data"
    }
   ],
   "source": [
    "import numpy as np\n",
    "import matplotlib.pyplot as plt\n",
    "\n",
    "a = 0.1\n",
    "b = 0.05\n",
    "r0 = 0.03\n",
    "sigma = 0.02\n",
    "T = 1\n",
    "steps = 100\n",
    "dt = T / steps\n",
    "\n",
    "r = np.zeros(steps + 1)\n",
    "r[0] = r0\n",
    "for t in range(1, steps + 1):\n",
    "    Z = np.random.randn()\n",
    "    dr = a * (b - r[t-1]) * dt + sigma * np.sqrt(dt) * Z\n",
    "    r[t] = r[t-1] + dr\n",
    "\n",
    "time = np.linspace(0, T, steps + 1)\n",
    "\n",
    "plt.plot(time, r)\n",
    "plt.title(\"Rate evolution with Vasicek model\")\n",
    "plt.xlabel(\"Time\")\n",
    "plt.ylabel(\"Rate\")\n",
    "plt.grid(True)\n",
    "plt.show()"
   ]
  }
 ],
 "metadata": {
  "kernelspec": {
   "display_name": "Python 3",
   "language": "python",
   "name": "python3"
  },
  "language_info": {
   "codemirror_mode": {
    "name": "ipython",
    "version": 3
   },
   "file_extension": ".py",
   "mimetype": "text/x-python",
   "name": "python",
   "nbconvert_exporter": "python",
   "pygments_lexer": "ipython3",
   "version": "3.12.2"
  }
 },
 "nbformat": 4,
 "nbformat_minor": 5
}
